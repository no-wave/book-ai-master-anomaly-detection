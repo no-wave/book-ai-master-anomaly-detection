{
 "cells": [
  {
   "cell_type": "markdown",
   "metadata": {},
   "source": [
    "# Autoencoder: AC Motor"
   ]
  },
  {
   "cell_type": "code",
   "execution_count": 2,
   "metadata": {
    "slideshow": {
     "slide_type": "slide"
    },
    "tags": []
   },
   "outputs": [],
   "source": [
    "import numpy as np\n",
    "import pandas as pd\n",
    "import matplotlib.pyplot as plt\n",
    "\n",
    "import warnings\n",
    "warnings.filterwarnings('ignore')\n",
    "from tqdm.notebook import tqdm\n",
    "\n",
    "from sklearn.model_selection import train_test_split"
   ]
  },
  {
   "cell_type": "markdown",
   "metadata": {},
   "source": [
    "## 1. 데이터 불러오기"
   ]
  },
  {
   "cell_type": "code",
   "execution_count": 3,
   "metadata": {
    "tags": []
   },
   "outputs": [
    {
     "data": {
      "text/html": [
       "<div>\n",
       "<style scoped>\n",
       "    .dataframe tbody tr th:only-of-type {\n",
       "        vertical-align: middle;\n",
       "    }\n",
       "\n",
       "    .dataframe tbody tr th {\n",
       "        vertical-align: top;\n",
       "    }\n",
       "\n",
       "    .dataframe thead th {\n",
       "        text-align: right;\n",
       "    }\n",
       "</style>\n",
       "<table border=\"1\" class=\"dataframe\">\n",
       "  <thead>\n",
       "    <tr style=\"text-align: right;\">\n",
       "      <th></th>\n",
       "      <th>Date</th>\n",
       "      <th>Label_No</th>\n",
       "      <th>Label</th>\n",
       "      <th>Motor</th>\n",
       "      <th>WATT</th>\n",
       "      <th>AMP</th>\n",
       "      <th>AbsMax</th>\n",
       "      <th>AbsMean</th>\n",
       "      <th>P2P</th>\n",
       "      <th>RMS</th>\n",
       "      <th>...</th>\n",
       "      <th>Shape</th>\n",
       "      <th>Impulse</th>\n",
       "      <th>1x</th>\n",
       "      <th>2x</th>\n",
       "      <th>3x</th>\n",
       "      <th>4x</th>\n",
       "      <th>1xB</th>\n",
       "      <th>2xB</th>\n",
       "      <th>3xB</th>\n",
       "      <th>4xB</th>\n",
       "    </tr>\n",
       "  </thead>\n",
       "  <tbody>\n",
       "    <tr>\n",
       "      <th>0</th>\n",
       "      <td>2020-11-25 14:01:00</td>\n",
       "      <td>0.0</td>\n",
       "      <td>정상</td>\n",
       "      <td>L-CAHU-03R</td>\n",
       "      <td>11.0</td>\n",
       "      <td>22.0</td>\n",
       "      <td>0.054116</td>\n",
       "      <td>0.011482</td>\n",
       "      <td>0.092395</td>\n",
       "      <td>0.014053</td>\n",
       "      <td>...</td>\n",
       "      <td>1.223906</td>\n",
       "      <td>4.713012</td>\n",
       "      <td>0.021590</td>\n",
       "      <td>0.002832</td>\n",
       "      <td>0.000747</td>\n",
       "      <td>0.000476</td>\n",
       "      <td>0.000814</td>\n",
       "      <td>0.000405</td>\n",
       "      <td>0.000370</td>\n",
       "      <td>0.000278</td>\n",
       "    </tr>\n",
       "    <tr>\n",
       "      <th>1</th>\n",
       "      <td>2020-11-25 14:05:06</td>\n",
       "      <td>0.0</td>\n",
       "      <td>정상</td>\n",
       "      <td>L-CAHU-03R</td>\n",
       "      <td>11.0</td>\n",
       "      <td>22.0</td>\n",
       "      <td>0.051435</td>\n",
       "      <td>0.011649</td>\n",
       "      <td>0.088863</td>\n",
       "      <td>0.014295</td>\n",
       "      <td>...</td>\n",
       "      <td>1.227197</td>\n",
       "      <td>4.415492</td>\n",
       "      <td>0.021702</td>\n",
       "      <td>0.002757</td>\n",
       "      <td>0.000674</td>\n",
       "      <td>0.000674</td>\n",
       "      <td>0.000993</td>\n",
       "      <td>0.000407</td>\n",
       "      <td>0.000258</td>\n",
       "      <td>0.000224</td>\n",
       "    </tr>\n",
       "    <tr>\n",
       "      <th>2</th>\n",
       "      <td>2020-11-25 14:06:12</td>\n",
       "      <td>0.0</td>\n",
       "      <td>정상</td>\n",
       "      <td>L-CAHU-03R</td>\n",
       "      <td>11.0</td>\n",
       "      <td>22.0</td>\n",
       "      <td>0.046130</td>\n",
       "      <td>0.012619</td>\n",
       "      <td>0.085221</td>\n",
       "      <td>0.015276</td>\n",
       "      <td>...</td>\n",
       "      <td>1.210515</td>\n",
       "      <td>3.655473</td>\n",
       "      <td>0.021162</td>\n",
       "      <td>0.002808</td>\n",
       "      <td>0.000938</td>\n",
       "      <td>0.000420</td>\n",
       "      <td>0.000507</td>\n",
       "      <td>0.000395</td>\n",
       "      <td>0.000217</td>\n",
       "      <td>0.000176</td>\n",
       "    </tr>\n",
       "    <tr>\n",
       "      <th>3</th>\n",
       "      <td>2020-11-25 14:06:24</td>\n",
       "      <td>0.0</td>\n",
       "      <td>정상</td>\n",
       "      <td>L-CAHU-03R</td>\n",
       "      <td>11.0</td>\n",
       "      <td>22.0</td>\n",
       "      <td>0.053497</td>\n",
       "      <td>0.011505</td>\n",
       "      <td>0.093581</td>\n",
       "      <td>0.014059</td>\n",
       "      <td>...</td>\n",
       "      <td>1.221968</td>\n",
       "      <td>4.649777</td>\n",
       "      <td>0.021820</td>\n",
       "      <td>0.002246</td>\n",
       "      <td>0.000765</td>\n",
       "      <td>0.000583</td>\n",
       "      <td>0.000961</td>\n",
       "      <td>0.000614</td>\n",
       "      <td>0.000276</td>\n",
       "      <td>0.000347</td>\n",
       "    </tr>\n",
       "    <tr>\n",
       "      <th>4</th>\n",
       "      <td>2020-11-25 14:07:03</td>\n",
       "      <td>0.0</td>\n",
       "      <td>정상</td>\n",
       "      <td>L-PAHU-02S</td>\n",
       "      <td>37.0</td>\n",
       "      <td>71.1</td>\n",
       "      <td>0.073671</td>\n",
       "      <td>0.014504</td>\n",
       "      <td>0.123645</td>\n",
       "      <td>0.017763</td>\n",
       "      <td>...</td>\n",
       "      <td>1.224668</td>\n",
       "      <td>5.079276</td>\n",
       "      <td>0.000268</td>\n",
       "      <td>0.002277</td>\n",
       "      <td>0.000215</td>\n",
       "      <td>0.000851</td>\n",
       "      <td>0.000442</td>\n",
       "      <td>0.000774</td>\n",
       "      <td>0.000115</td>\n",
       "      <td>0.000496</td>\n",
       "    </tr>\n",
       "  </tbody>\n",
       "</table>\n",
       "<p>5 rows × 23 columns</p>\n",
       "</div>"
      ],
      "text/plain": [
       "                  Date  Label_No Label       Motor  WATT   AMP    AbsMax  \\\n",
       "0  2020-11-25 14:01:00       0.0    정상  L-CAHU-03R  11.0  22.0  0.054116   \n",
       "1  2020-11-25 14:05:06       0.0    정상  L-CAHU-03R  11.0  22.0  0.051435   \n",
       "2  2020-11-25 14:06:12       0.0    정상  L-CAHU-03R  11.0  22.0  0.046130   \n",
       "3  2020-11-25 14:06:24       0.0    정상  L-CAHU-03R  11.0  22.0  0.053497   \n",
       "4  2020-11-25 14:07:03       0.0    정상  L-PAHU-02S  37.0  71.1  0.073671   \n",
       "\n",
       "    AbsMean       P2P       RMS  ...     Shape   Impulse        1x        2x  \\\n",
       "0  0.011482  0.092395  0.014053  ...  1.223906  4.713012  0.021590  0.002832   \n",
       "1  0.011649  0.088863  0.014295  ...  1.227197  4.415492  0.021702  0.002757   \n",
       "2  0.012619  0.085221  0.015276  ...  1.210515  3.655473  0.021162  0.002808   \n",
       "3  0.011505  0.093581  0.014059  ...  1.221968  4.649777  0.021820  0.002246   \n",
       "4  0.014504  0.123645  0.017763  ...  1.224668  5.079276  0.000268  0.002277   \n",
       "\n",
       "         3x        4x       1xB       2xB       3xB       4xB  \n",
       "0  0.000747  0.000476  0.000814  0.000405  0.000370  0.000278  \n",
       "1  0.000674  0.000674  0.000993  0.000407  0.000258  0.000224  \n",
       "2  0.000938  0.000420  0.000507  0.000395  0.000217  0.000176  \n",
       "3  0.000765  0.000583  0.000961  0.000614  0.000276  0.000347  \n",
       "4  0.000215  0.000851  0.000442  0.000774  0.000115  0.000496  \n",
       "\n",
       "[5 rows x 23 columns]"
      ]
     },
     "execution_count": 3,
     "metadata": {},
     "output_type": "execute_result"
    }
   ],
   "source": [
    "df = pd.read_csv('../dataset/vibration_10k.csv')\n",
    "df.head()"
   ]
  },
  {
   "cell_type": "code",
   "execution_count": 4,
   "metadata": {
    "tags": []
   },
   "outputs": [
    {
     "data": {
      "text/plain": [
       "(10000, 23)"
      ]
     },
     "execution_count": 4,
     "metadata": {},
     "output_type": "execute_result"
    }
   ],
   "source": [
    "df.shape"
   ]
  },
  {
   "cell_type": "code",
   "execution_count": 5,
   "metadata": {
    "tags": []
   },
   "outputs": [
    {
     "name": "stdout",
     "output_type": "stream",
     "text": [
      "<class 'pandas.core.frame.DataFrame'>\n",
      "RangeIndex: 10000 entries, 0 to 9999\n",
      "Data columns (total 23 columns):\n",
      " #   Column    Non-Null Count  Dtype  \n",
      "---  ------    --------------  -----  \n",
      " 0   Date      10000 non-null  object \n",
      " 1   Label_No  10000 non-null  float64\n",
      " 2   Label     10000 non-null  object \n",
      " 3   Motor     10000 non-null  object \n",
      " 4   WATT      10000 non-null  float64\n",
      " 5   AMP       10000 non-null  float64\n",
      " 6   AbsMax    9988 non-null   float64\n",
      " 7   AbsMean   10000 non-null  float64\n",
      " 8   P2P       10000 non-null  float64\n",
      " 9   RMS       10000 non-null  float64\n",
      " 10  Skewness  10000 non-null  float64\n",
      " 11  Kurtosis  10000 non-null  float64\n",
      " 12  Crest     10000 non-null  float64\n",
      " 13  Shape     10000 non-null  float64\n",
      " 14  Impulse   10000 non-null  float64\n",
      " 15  1x        10000 non-null  float64\n",
      " 16  2x        10000 non-null  float64\n",
      " 17  3x        10000 non-null  float64\n",
      " 18  4x        10000 non-null  float64\n",
      " 19  1xB       10000 non-null  float64\n",
      " 20  2xB       10000 non-null  float64\n",
      " 21  3xB       10000 non-null  float64\n",
      " 22  4xB       10000 non-null  float64\n",
      "dtypes: float64(20), object(3)\n",
      "memory usage: 1.8+ MB\n"
     ]
    }
   ],
   "source": [
    "df.info()"
   ]
  },
  {
   "cell_type": "markdown",
   "metadata": {},
   "source": [
    "## 2. 데이터 탐색"
   ]
  },
  {
   "cell_type": "code",
   "execution_count": 6,
   "metadata": {
    "tags": []
   },
   "outputs": [
    {
     "data": {
      "text/plain": [
       "Label\n",
       "정상        4612\n",
       "벨트느슨함     1654\n",
       "축정렬불량     1337\n",
       "베어링불량     1243\n",
       "회전체불평형    1154\n",
       "Name: count, dtype: int64"
      ]
     },
     "execution_count": 6,
     "metadata": {},
     "output_type": "execute_result"
    }
   ],
   "source": [
    "df['Label'].value_counts()"
   ]
  },
  {
   "cell_type": "markdown",
   "metadata": {},
   "source": [
    "### 2.1 DateTime Index 지정"
   ]
  },
  {
   "cell_type": "code",
   "execution_count": 7,
   "metadata": {
    "tags": []
   },
   "outputs": [
    {
     "data": {
      "text/html": [
       "<div>\n",
       "<style scoped>\n",
       "    .dataframe tbody tr th:only-of-type {\n",
       "        vertical-align: middle;\n",
       "    }\n",
       "\n",
       "    .dataframe tbody tr th {\n",
       "        vertical-align: top;\n",
       "    }\n",
       "\n",
       "    .dataframe thead th {\n",
       "        text-align: right;\n",
       "    }\n",
       "</style>\n",
       "<table border=\"1\" class=\"dataframe\">\n",
       "  <thead>\n",
       "    <tr style=\"text-align: right;\">\n",
       "      <th></th>\n",
       "      <th>Label_No</th>\n",
       "      <th>Label</th>\n",
       "      <th>Motor</th>\n",
       "      <th>WATT</th>\n",
       "      <th>AMP</th>\n",
       "      <th>AbsMax</th>\n",
       "      <th>AbsMean</th>\n",
       "      <th>P2P</th>\n",
       "      <th>RMS</th>\n",
       "      <th>Skewness</th>\n",
       "      <th>...</th>\n",
       "      <th>Shape</th>\n",
       "      <th>Impulse</th>\n",
       "      <th>1x</th>\n",
       "      <th>2x</th>\n",
       "      <th>3x</th>\n",
       "      <th>4x</th>\n",
       "      <th>1xB</th>\n",
       "      <th>2xB</th>\n",
       "      <th>3xB</th>\n",
       "      <th>4xB</th>\n",
       "    </tr>\n",
       "    <tr>\n",
       "      <th>Date</th>\n",
       "      <th></th>\n",
       "      <th></th>\n",
       "      <th></th>\n",
       "      <th></th>\n",
       "      <th></th>\n",
       "      <th></th>\n",
       "      <th></th>\n",
       "      <th></th>\n",
       "      <th></th>\n",
       "      <th></th>\n",
       "      <th></th>\n",
       "      <th></th>\n",
       "      <th></th>\n",
       "      <th></th>\n",
       "      <th></th>\n",
       "      <th></th>\n",
       "      <th></th>\n",
       "      <th></th>\n",
       "      <th></th>\n",
       "      <th></th>\n",
       "      <th></th>\n",
       "    </tr>\n",
       "  </thead>\n",
       "  <tbody>\n",
       "    <tr>\n",
       "      <th>2020-11-25 14:01:00</th>\n",
       "      <td>0.0</td>\n",
       "      <td>정상</td>\n",
       "      <td>L-CAHU-03R</td>\n",
       "      <td>11.0</td>\n",
       "      <td>22.0</td>\n",
       "      <td>0.054116</td>\n",
       "      <td>0.011482</td>\n",
       "      <td>0.092395</td>\n",
       "      <td>0.014053</td>\n",
       "      <td>-0.142563</td>\n",
       "      <td>...</td>\n",
       "      <td>1.223906</td>\n",
       "      <td>4.713012</td>\n",
       "      <td>0.021590</td>\n",
       "      <td>0.002832</td>\n",
       "      <td>0.000747</td>\n",
       "      <td>0.000476</td>\n",
       "      <td>0.000814</td>\n",
       "      <td>0.000405</td>\n",
       "      <td>0.000370</td>\n",
       "      <td>0.000278</td>\n",
       "    </tr>\n",
       "    <tr>\n",
       "      <th>2020-11-25 14:05:06</th>\n",
       "      <td>0.0</td>\n",
       "      <td>정상</td>\n",
       "      <td>L-CAHU-03R</td>\n",
       "      <td>11.0</td>\n",
       "      <td>22.0</td>\n",
       "      <td>0.051435</td>\n",
       "      <td>0.011649</td>\n",
       "      <td>0.088863</td>\n",
       "      <td>0.014295</td>\n",
       "      <td>-0.129078</td>\n",
       "      <td>...</td>\n",
       "      <td>1.227197</td>\n",
       "      <td>4.415492</td>\n",
       "      <td>0.021702</td>\n",
       "      <td>0.002757</td>\n",
       "      <td>0.000674</td>\n",
       "      <td>0.000674</td>\n",
       "      <td>0.000993</td>\n",
       "      <td>0.000407</td>\n",
       "      <td>0.000258</td>\n",
       "      <td>0.000224</td>\n",
       "    </tr>\n",
       "    <tr>\n",
       "      <th>2020-11-25 14:06:12</th>\n",
       "      <td>0.0</td>\n",
       "      <td>정상</td>\n",
       "      <td>L-CAHU-03R</td>\n",
       "      <td>11.0</td>\n",
       "      <td>22.0</td>\n",
       "      <td>0.046130</td>\n",
       "      <td>0.012619</td>\n",
       "      <td>0.085221</td>\n",
       "      <td>0.015276</td>\n",
       "      <td>-0.144933</td>\n",
       "      <td>...</td>\n",
       "      <td>1.210515</td>\n",
       "      <td>3.655473</td>\n",
       "      <td>0.021162</td>\n",
       "      <td>0.002808</td>\n",
       "      <td>0.000938</td>\n",
       "      <td>0.000420</td>\n",
       "      <td>0.000507</td>\n",
       "      <td>0.000395</td>\n",
       "      <td>0.000217</td>\n",
       "      <td>0.000176</td>\n",
       "    </tr>\n",
       "    <tr>\n",
       "      <th>2020-11-25 14:06:24</th>\n",
       "      <td>0.0</td>\n",
       "      <td>정상</td>\n",
       "      <td>L-CAHU-03R</td>\n",
       "      <td>11.0</td>\n",
       "      <td>22.0</td>\n",
       "      <td>0.053497</td>\n",
       "      <td>0.011505</td>\n",
       "      <td>0.093581</td>\n",
       "      <td>0.014059</td>\n",
       "      <td>-0.124687</td>\n",
       "      <td>...</td>\n",
       "      <td>1.221968</td>\n",
       "      <td>4.649777</td>\n",
       "      <td>0.021820</td>\n",
       "      <td>0.002246</td>\n",
       "      <td>0.000765</td>\n",
       "      <td>0.000583</td>\n",
       "      <td>0.000961</td>\n",
       "      <td>0.000614</td>\n",
       "      <td>0.000276</td>\n",
       "      <td>0.000347</td>\n",
       "    </tr>\n",
       "    <tr>\n",
       "      <th>2020-11-25 14:07:03</th>\n",
       "      <td>0.0</td>\n",
       "      <td>정상</td>\n",
       "      <td>L-PAHU-02S</td>\n",
       "      <td>37.0</td>\n",
       "      <td>71.1</td>\n",
       "      <td>0.073671</td>\n",
       "      <td>0.014504</td>\n",
       "      <td>0.123645</td>\n",
       "      <td>0.017763</td>\n",
       "      <td>-0.180152</td>\n",
       "      <td>...</td>\n",
       "      <td>1.224668</td>\n",
       "      <td>5.079276</td>\n",
       "      <td>0.000268</td>\n",
       "      <td>0.002277</td>\n",
       "      <td>0.000215</td>\n",
       "      <td>0.000851</td>\n",
       "      <td>0.000442</td>\n",
       "      <td>0.000774</td>\n",
       "      <td>0.000115</td>\n",
       "      <td>0.000496</td>\n",
       "    </tr>\n",
       "  </tbody>\n",
       "</table>\n",
       "<p>5 rows × 22 columns</p>\n",
       "</div>"
      ],
      "text/plain": [
       "                     Label_No Label       Motor  WATT   AMP    AbsMax  \\\n",
       "Date                                                                    \n",
       "2020-11-25 14:01:00       0.0    정상  L-CAHU-03R  11.0  22.0  0.054116   \n",
       "2020-11-25 14:05:06       0.0    정상  L-CAHU-03R  11.0  22.0  0.051435   \n",
       "2020-11-25 14:06:12       0.0    정상  L-CAHU-03R  11.0  22.0  0.046130   \n",
       "2020-11-25 14:06:24       0.0    정상  L-CAHU-03R  11.0  22.0  0.053497   \n",
       "2020-11-25 14:07:03       0.0    정상  L-PAHU-02S  37.0  71.1  0.073671   \n",
       "\n",
       "                      AbsMean       P2P       RMS  Skewness  ...     Shape  \\\n",
       "Date                                                         ...             \n",
       "2020-11-25 14:01:00  0.011482  0.092395  0.014053 -0.142563  ...  1.223906   \n",
       "2020-11-25 14:05:06  0.011649  0.088863  0.014295 -0.129078  ...  1.227197   \n",
       "2020-11-25 14:06:12  0.012619  0.085221  0.015276 -0.144933  ...  1.210515   \n",
       "2020-11-25 14:06:24  0.011505  0.093581  0.014059 -0.124687  ...  1.221968   \n",
       "2020-11-25 14:07:03  0.014504  0.123645  0.017763 -0.180152  ...  1.224668   \n",
       "\n",
       "                      Impulse        1x        2x        3x        4x  \\\n",
       "Date                                                                    \n",
       "2020-11-25 14:01:00  4.713012  0.021590  0.002832  0.000747  0.000476   \n",
       "2020-11-25 14:05:06  4.415492  0.021702  0.002757  0.000674  0.000674   \n",
       "2020-11-25 14:06:12  3.655473  0.021162  0.002808  0.000938  0.000420   \n",
       "2020-11-25 14:06:24  4.649777  0.021820  0.002246  0.000765  0.000583   \n",
       "2020-11-25 14:07:03  5.079276  0.000268  0.002277  0.000215  0.000851   \n",
       "\n",
       "                          1xB       2xB       3xB       4xB  \n",
       "Date                                                         \n",
       "2020-11-25 14:01:00  0.000814  0.000405  0.000370  0.000278  \n",
       "2020-11-25 14:05:06  0.000993  0.000407  0.000258  0.000224  \n",
       "2020-11-25 14:06:12  0.000507  0.000395  0.000217  0.000176  \n",
       "2020-11-25 14:06:24  0.000961  0.000614  0.000276  0.000347  \n",
       "2020-11-25 14:07:03  0.000442  0.000774  0.000115  0.000496  \n",
       "\n",
       "[5 rows x 22 columns]"
      ]
     },
     "execution_count": 7,
     "metadata": {},
     "output_type": "execute_result"
    }
   ],
   "source": [
    "df['Date'] = pd.to_datetime(df['Date'], format='%Y-%m-%d %H:%M:%S')\n",
    "df = df.set_index('Date')\n",
    "df.head()"
   ]
  },
  {
   "cell_type": "markdown",
   "metadata": {},
   "source": [
    "### 2.2 결측치 확인 및 처리"
   ]
  },
  {
   "cell_type": "code",
   "execution_count": 8,
   "metadata": {
    "tags": []
   },
   "outputs": [
    {
     "data": {
      "text/plain": [
       "Label_No     0\n",
       "Label        0\n",
       "Motor        0\n",
       "WATT         0\n",
       "AMP          0\n",
       "AbsMax      12\n",
       "AbsMean      0\n",
       "P2P          0\n",
       "RMS          0\n",
       "Skewness     0\n",
       "Kurtosis     0\n",
       "Crest        0\n",
       "Shape        0\n",
       "Impulse      0\n",
       "1x           0\n",
       "2x           0\n",
       "3x           0\n",
       "4x           0\n",
       "1xB          0\n",
       "2xB          0\n",
       "3xB          0\n",
       "4xB          0\n",
       "dtype: int64"
      ]
     },
     "execution_count": 8,
     "metadata": {},
     "output_type": "execute_result"
    }
   ],
   "source": [
    "df.isnull().sum()"
   ]
  },
  {
   "cell_type": "code",
   "execution_count": 9,
   "metadata": {
    "tags": []
   },
   "outputs": [
    {
     "data": {
      "text/plain": [
       "Label_No    0\n",
       "Label       0\n",
       "Motor       0\n",
       "WATT        0\n",
       "AMP         0\n",
       "AbsMax      0\n",
       "AbsMean     0\n",
       "P2P         0\n",
       "RMS         0\n",
       "Skewness    0\n",
       "Kurtosis    0\n",
       "Crest       0\n",
       "Shape       0\n",
       "Impulse     0\n",
       "1x          0\n",
       "2x          0\n",
       "3x          0\n",
       "4x          0\n",
       "1xB         0\n",
       "2xB         0\n",
       "3xB         0\n",
       "4xB         0\n",
       "dtype: int64"
      ]
     },
     "execution_count": 9,
     "metadata": {},
     "output_type": "execute_result"
    }
   ],
   "source": [
    "df['AbsMax'].fillna(df['AbsMax'].mean(), inplace=True)\n",
    "df.isnull().sum()"
   ]
  },
  {
   "cell_type": "markdown",
   "metadata": {},
   "source": [
    "## 3. Feature Engineering"
   ]
  },
  {
   "cell_type": "code",
   "execution_count": 10,
   "metadata": {
    "tags": []
   },
   "outputs": [
    {
     "data": {
      "text/html": [
       "<div>\n",
       "<style scoped>\n",
       "    .dataframe tbody tr th:only-of-type {\n",
       "        vertical-align: middle;\n",
       "    }\n",
       "\n",
       "    .dataframe tbody tr th {\n",
       "        vertical-align: top;\n",
       "    }\n",
       "\n",
       "    .dataframe thead th {\n",
       "        text-align: right;\n",
       "    }\n",
       "</style>\n",
       "<table border=\"1\" class=\"dataframe\">\n",
       "  <thead>\n",
       "    <tr style=\"text-align: right;\">\n",
       "      <th></th>\n",
       "      <th>Label_No</th>\n",
       "      <th>AbsMax</th>\n",
       "      <th>AbsMean</th>\n",
       "      <th>P2P</th>\n",
       "      <th>RMS</th>\n",
       "      <th>Skewness</th>\n",
       "      <th>Kurtosis</th>\n",
       "      <th>Crest</th>\n",
       "      <th>Shape</th>\n",
       "      <th>Impulse</th>\n",
       "      <th>1x</th>\n",
       "      <th>2x</th>\n",
       "      <th>3x</th>\n",
       "      <th>4x</th>\n",
       "      <th>1xB</th>\n",
       "      <th>2xB</th>\n",
       "      <th>3xB</th>\n",
       "      <th>4xB</th>\n",
       "    </tr>\n",
       "    <tr>\n",
       "      <th>Date</th>\n",
       "      <th></th>\n",
       "      <th></th>\n",
       "      <th></th>\n",
       "      <th></th>\n",
       "      <th></th>\n",
       "      <th></th>\n",
       "      <th></th>\n",
       "      <th></th>\n",
       "      <th></th>\n",
       "      <th></th>\n",
       "      <th></th>\n",
       "      <th></th>\n",
       "      <th></th>\n",
       "      <th></th>\n",
       "      <th></th>\n",
       "      <th></th>\n",
       "      <th></th>\n",
       "      <th></th>\n",
       "    </tr>\n",
       "  </thead>\n",
       "  <tbody>\n",
       "    <tr>\n",
       "      <th>2020-11-25 14:01:00</th>\n",
       "      <td>0.0</td>\n",
       "      <td>0.054116</td>\n",
       "      <td>0.011482</td>\n",
       "      <td>0.092395</td>\n",
       "      <td>0.014053</td>\n",
       "      <td>-0.142563</td>\n",
       "      <td>2.606448</td>\n",
       "      <td>6.574603</td>\n",
       "      <td>1.223906</td>\n",
       "      <td>4.713012</td>\n",
       "      <td>0.021590</td>\n",
       "      <td>0.002832</td>\n",
       "      <td>0.000747</td>\n",
       "      <td>0.000476</td>\n",
       "      <td>0.000814</td>\n",
       "      <td>0.000405</td>\n",
       "      <td>0.000370</td>\n",
       "      <td>0.000278</td>\n",
       "    </tr>\n",
       "    <tr>\n",
       "      <th>2020-11-25 14:05:06</th>\n",
       "      <td>0.0</td>\n",
       "      <td>0.051435</td>\n",
       "      <td>0.011649</td>\n",
       "      <td>0.088863</td>\n",
       "      <td>0.014295</td>\n",
       "      <td>-0.129078</td>\n",
       "      <td>2.538691</td>\n",
       "      <td>6.216188</td>\n",
       "      <td>1.227197</td>\n",
       "      <td>4.415492</td>\n",
       "      <td>0.021702</td>\n",
       "      <td>0.002757</td>\n",
       "      <td>0.000674</td>\n",
       "      <td>0.000674</td>\n",
       "      <td>0.000993</td>\n",
       "      <td>0.000407</td>\n",
       "      <td>0.000258</td>\n",
       "      <td>0.000224</td>\n",
       "    </tr>\n",
       "    <tr>\n",
       "      <th>2020-11-25 14:06:12</th>\n",
       "      <td>0.0</td>\n",
       "      <td>0.046130</td>\n",
       "      <td>0.012619</td>\n",
       "      <td>0.085221</td>\n",
       "      <td>0.015276</td>\n",
       "      <td>-0.144933</td>\n",
       "      <td>2.386880</td>\n",
       "      <td>5.578775</td>\n",
       "      <td>1.210515</td>\n",
       "      <td>3.655473</td>\n",
       "      <td>0.021162</td>\n",
       "      <td>0.002808</td>\n",
       "      <td>0.000938</td>\n",
       "      <td>0.000420</td>\n",
       "      <td>0.000507</td>\n",
       "      <td>0.000395</td>\n",
       "      <td>0.000217</td>\n",
       "      <td>0.000176</td>\n",
       "    </tr>\n",
       "    <tr>\n",
       "      <th>2020-11-25 14:06:24</th>\n",
       "      <td>0.0</td>\n",
       "      <td>0.053497</td>\n",
       "      <td>0.011505</td>\n",
       "      <td>0.093581</td>\n",
       "      <td>0.014059</td>\n",
       "      <td>-0.124687</td>\n",
       "      <td>2.511421</td>\n",
       "      <td>6.656225</td>\n",
       "      <td>1.221968</td>\n",
       "      <td>4.649777</td>\n",
       "      <td>0.021820</td>\n",
       "      <td>0.002246</td>\n",
       "      <td>0.000765</td>\n",
       "      <td>0.000583</td>\n",
       "      <td>0.000961</td>\n",
       "      <td>0.000614</td>\n",
       "      <td>0.000276</td>\n",
       "      <td>0.000347</td>\n",
       "    </tr>\n",
       "    <tr>\n",
       "      <th>2020-11-25 14:07:03</th>\n",
       "      <td>0.0</td>\n",
       "      <td>0.073671</td>\n",
       "      <td>0.014504</td>\n",
       "      <td>0.123645</td>\n",
       "      <td>0.017763</td>\n",
       "      <td>-0.180152</td>\n",
       "      <td>2.612526</td>\n",
       "      <td>6.960855</td>\n",
       "      <td>1.224668</td>\n",
       "      <td>5.079276</td>\n",
       "      <td>0.000268</td>\n",
       "      <td>0.002277</td>\n",
       "      <td>0.000215</td>\n",
       "      <td>0.000851</td>\n",
       "      <td>0.000442</td>\n",
       "      <td>0.000774</td>\n",
       "      <td>0.000115</td>\n",
       "      <td>0.000496</td>\n",
       "    </tr>\n",
       "  </tbody>\n",
       "</table>\n",
       "</div>"
      ],
      "text/plain": [
       "                     Label_No    AbsMax   AbsMean       P2P       RMS  \\\n",
       "Date                                                                    \n",
       "2020-11-25 14:01:00       0.0  0.054116  0.011482  0.092395  0.014053   \n",
       "2020-11-25 14:05:06       0.0  0.051435  0.011649  0.088863  0.014295   \n",
       "2020-11-25 14:06:12       0.0  0.046130  0.012619  0.085221  0.015276   \n",
       "2020-11-25 14:06:24       0.0  0.053497  0.011505  0.093581  0.014059   \n",
       "2020-11-25 14:07:03       0.0  0.073671  0.014504  0.123645  0.017763   \n",
       "\n",
       "                     Skewness  Kurtosis     Crest     Shape   Impulse  \\\n",
       "Date                                                                    \n",
       "2020-11-25 14:01:00 -0.142563  2.606448  6.574603  1.223906  4.713012   \n",
       "2020-11-25 14:05:06 -0.129078  2.538691  6.216188  1.227197  4.415492   \n",
       "2020-11-25 14:06:12 -0.144933  2.386880  5.578775  1.210515  3.655473   \n",
       "2020-11-25 14:06:24 -0.124687  2.511421  6.656225  1.221968  4.649777   \n",
       "2020-11-25 14:07:03 -0.180152  2.612526  6.960855  1.224668  5.079276   \n",
       "\n",
       "                           1x        2x        3x        4x       1xB  \\\n",
       "Date                                                                    \n",
       "2020-11-25 14:01:00  0.021590  0.002832  0.000747  0.000476  0.000814   \n",
       "2020-11-25 14:05:06  0.021702  0.002757  0.000674  0.000674  0.000993   \n",
       "2020-11-25 14:06:12  0.021162  0.002808  0.000938  0.000420  0.000507   \n",
       "2020-11-25 14:06:24  0.021820  0.002246  0.000765  0.000583  0.000961   \n",
       "2020-11-25 14:07:03  0.000268  0.002277  0.000215  0.000851  0.000442   \n",
       "\n",
       "                          2xB       3xB       4xB  \n",
       "Date                                               \n",
       "2020-11-25 14:01:00  0.000405  0.000370  0.000278  \n",
       "2020-11-25 14:05:06  0.000407  0.000258  0.000224  \n",
       "2020-11-25 14:06:12  0.000395  0.000217  0.000176  \n",
       "2020-11-25 14:06:24  0.000614  0.000276  0.000347  \n",
       "2020-11-25 14:07:03  0.000774  0.000115  0.000496  "
      ]
     },
     "execution_count": 10,
     "metadata": {},
     "output_type": "execute_result"
    }
   ],
   "source": [
    "df.drop(['Label', 'Motor', 'WATT', 'AMP'], axis=1, inplace=True)\n",
    "df.head()"
   ]
  },
  {
   "cell_type": "markdown",
   "metadata": {},
   "source": [
    "### 3.1 Normal/Anomaly 추출"
   ]
  },
  {
   "cell_type": "code",
   "execution_count": 11,
   "metadata": {
    "tags": []
   },
   "outputs": [
    {
     "data": {
      "text/plain": [
       "Label_No\n",
       "0.0    4612\n",
       "4.0    1654\n",
       "3.0    1337\n",
       "1.0    1243\n",
       "2.0    1154\n",
       "Name: count, dtype: int64"
      ]
     },
     "execution_count": 11,
     "metadata": {},
     "output_type": "execute_result"
    }
   ],
   "source": [
    "df['Label_No'].value_counts()"
   ]
  },
  {
   "cell_type": "code",
   "execution_count": 12,
   "metadata": {
    "tags": []
   },
   "outputs": [
    {
     "data": {
      "text/plain": [
       "(4612, 17)"
      ]
     },
     "execution_count": 12,
     "metadata": {},
     "output_type": "execute_result"
    }
   ],
   "source": [
    "normal_df = df[df['Label_No'] == 0].drop(labels='Label_No', axis=1)\n",
    "normal_df.shape"
   ]
  },
  {
   "cell_type": "code",
   "execution_count": 13,
   "metadata": {
    "tags": []
   },
   "outputs": [
    {
     "data": {
      "text/plain": [
       "(5388, 17)"
      ]
     },
     "execution_count": 13,
     "metadata": {},
     "output_type": "execute_result"
    }
   ],
   "source": [
    "anomaly_df = df[df['Label_No'] != 0].drop(labels='Label_No', axis=1)\n",
    "anomaly_df.shape"
   ]
  },
  {
   "cell_type": "markdown",
   "metadata": {},
   "source": [
    "### 3.2 Train/Test Split "
   ]
  },
  {
   "cell_type": "code",
   "execution_count": 17,
   "metadata": {
    "tags": []
   },
   "outputs": [],
   "source": [
    "train_df, test_df = train_test_split(normal_df, test_size=0.15, random_state=100)"
   ]
  },
  {
   "cell_type": "markdown",
   "metadata": {},
   "source": [
    "## 4. PyOD: Autoencoder"
   ]
  },
  {
   "cell_type": "code",
   "execution_count": 19,
   "metadata": {
    "tags": []
   },
   "outputs": [],
   "source": [
    "import pyod\n",
    "from pyod.models.auto_encoder import AutoEncoder"
   ]
  },
  {
   "cell_type": "code",
   "execution_count": 21,
   "metadata": {
    "tags": []
   },
   "outputs": [
    {
     "name": "stderr",
     "output_type": "stream",
     "text": [
      "Training: 100%|██████████| 10/10 [00:02<00:00,  3.88it/s]\n"
     ]
    }
   ],
   "source": [
    "clf_name = 'AutoEncoder'\n",
    "clf = AutoEncoder(hidden_neuron_list =[32, 2, 2, 32], batch_size=128)\n",
    "clf.fit(train_df)"
   ]
  },
  {
   "cell_type": "code",
   "execution_count": 22,
   "metadata": {
    "tags": []
   },
   "outputs": [],
   "source": [
    "train_pred = clf.labels_  \n",
    "train_scores = clf.decision_scores_ \n",
    "\n",
    "test_pred = clf.predict(test_df)  \n",
    "test_scores = clf.decision_function(test_df) "
   ]
  },
  {
   "cell_type": "code",
   "execution_count": 23,
   "metadata": {
    "tags": []
   },
   "outputs": [
    {
     "data": {
      "text/plain": [
       "array([0, 0, 0, ..., 0, 0, 0])"
      ]
     },
     "execution_count": 23,
     "metadata": {},
     "output_type": "execute_result"
    }
   ],
   "source": [
    "train_pred"
   ]
  },
  {
   "cell_type": "code",
   "execution_count": 24,
   "metadata": {
    "tags": []
   },
   "outputs": [
    {
     "data": {
      "image/png": "[encoded data removed]",
      "text/plain": [
       "<Figure size 640x480 with 2 Axes>"
      ]
     },
     "metadata": {},
     "output_type": "display_data"
    }
   ],
   "source": [
    "ax1 = plt.subplot(2, 1, 1)\n",
    "plt.hist(train_scores)\n",
    "\n",
    "ax2 = plt.subplot(2, 1, 2)\n",
    "plt.hist(train_scores)\n",
    "plt.xlabel('Scores')\n",
    "\n",
    "plt.show()"
   ]
  },
  {
   "cell_type": "code",
   "execution_count": 25,
   "metadata": {
    "tags": []
   },
   "outputs": [
    {
     "data": {
      "text/plain": [
       "5.167710590362548"
      ]
     },
     "execution_count": 25,
     "metadata": {},
     "output_type": "execute_result"
    }
   ],
   "source": [
    "clf.threshold_"
   ]
  },
  {
   "cell_type": "markdown",
   "metadata": {},
   "source": [
    "## 5. PyOD: Variational Autoencoder"
   ]
  },
  {
   "cell_type": "code",
   "execution_count": 26,
   "metadata": {
    "tags": []
   },
   "outputs": [],
   "source": [
    "import pyod\n",
    "from pyod.models.vae import VAE"
   ]
  },
  {
   "cell_type": "code",
   "execution_count": 32,
   "metadata": {
    "tags": []
   },
   "outputs": [
    {
     "name": "stderr",
     "output_type": "stream",
     "text": [
      "Training: 100%|██████████| 30/30 [00:05<00:00,  5.38it/s]\n"
     ]
    }
   ],
   "source": [
    "clf_name = 'VAE'\n",
    "clf = VAE(encoder_neuron_list = [2, 32, 64],\n",
    "          decoder_neuron_list = [64, 32, 2],\n",
    "          epoch_num=30, \n",
    "          batch_size=128)\n",
    "clf.fit(train_df)"
   ]
  },
  {
   "cell_type": "code",
   "execution_count": 33,
   "metadata": {
    "tags": []
   },
   "outputs": [],
   "source": [
    "train_pred = clf.labels_  \n",
    "train_scores = clf.decision_scores_ \n",
    "\n",
    "test_pred = clf.predict(test_df)  \n",
    "test_scores = clf.decision_function(test_df) "
   ]
  },
  {
   "cell_type": "code",
   "execution_count": 34,
   "metadata": {
    "tags": []
   },
   "outputs": [
    {
     "data": {
      "text/plain": [
       "array([0, 0, 0, ..., 0, 0, 0])"
      ]
     },
     "execution_count": 34,
     "metadata": {},
     "output_type": "execute_result"
    }
   ],
   "source": [
    "train_pred"
   ]
  },
  {
   "cell_type": "code",
   "execution_count": 35,
   "metadata": {
    "tags": []
   },
   "outputs": [
    {
     "data": {
      "image/png": "[encoded data removed]",
      "text/plain": [
       "<Figure size 640x480 with 2 Axes>"
      ]
     },
     "metadata": {},
     "output_type": "display_data"
    }
   ],
   "source": [
    "ax1 = plt.subplot(2, 1, 1)\n",
    "plt.hist(train_scores)\n",
    "\n",
    "ax2 = plt.subplot(2, 1, 2)\n",
    "plt.hist(train_scores)\n",
    "plt.xlabel('Scores')\n",
    "\n",
    "plt.show()"
   ]
  },
  {
   "cell_type": "code",
   "execution_count": 36,
   "metadata": {
    "tags": []
   },
   "outputs": [
    {
     "data": {
      "text/plain": [
       "5.164724731445311"
      ]
     },
     "execution_count": 36,
     "metadata": {},
     "output_type": "execute_result"
    }
   ],
   "source": [
    "clf.threshold_"
   ]
  }
 ],
 "metadata": {
  "kernelspec": {
   "display_name": "lecture",
   "language": "python",
   "name": "lecture"
  },
  "language_info": {
   "codemirror_mode": {
    "name": "ipython",
    "version": 3
   },
   "file_extension": ".py",
   "mimetype": "text/x-python",
   "name": "python",
   "nbconvert_exporter": "python",
   "pygments_lexer": "ipython3",
   "version": "3.11.7"
  }
 },
 "nbformat": 4,
 "nbformat_minor": 4
}
