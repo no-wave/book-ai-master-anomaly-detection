{
 "cells": [
  {
   "cell_type": "markdown",
   "metadata": {},
   "source": [
    "# Autoencoder: AC Motor"
   ]
  },
  {
   "cell_type": "code",
   "execution_count": 1,
   "metadata": {
    "slideshow": {
     "slide_type": "slide"
    },
    "tags": []
   },
   "outputs": [],
   "source": [
    "import numpy as np\n",
    "import pandas as pd\n",
    "import matplotlib.pyplot as plt\n",
    "\n",
    "import warnings\n",
    "warnings.filterwarnings('ignore')\n",
    "from tqdm.notebook import tqdm\n",
    "#from tqdm import tqdm\n",
    "\n",
    "from sklearn.model_selection import train_test_split\n",
    "\n",
    "import copy\n",
    "import torch\n",
    "from torch import nn, optim\n",
    "import torch.nn.functional as F\n",
    "\n",
    "RANDOM_SEED = 42\n",
    "np.random.seed(RANDOM_SEED)\n",
    "torch.manual_seed(RANDOM_SEED)\n",
    "device = torch.device(\"cuda\" if torch.cuda.is_available() else \"cpu\")"
   ]
  },
  {
   "cell_type": "markdown",
   "metadata": {},
   "source": [
    "## 1. 데이터 불러오기"
   ]
  },
  {
   "cell_type": "code",
   "execution_count": 3,
   "metadata": {
    "tags": []
   },
   "outputs": [
    {
     "data": {
      "text/html": [
       "<div>\n",
       "<style scoped>\n",
       "    .dataframe tbody tr th:only-of-type {\n",
       "        vertical-align: middle;\n",
       "    }\n",
       "\n",
       "    .dataframe tbody tr th {\n",
       "        vertical-align: top;\n",
       "    }\n",
       "\n",
       "    .dataframe thead th {\n",
       "        text-align: right;\n",
       "    }\n",
       "</style>\n",
       "<table border=\"1\" class=\"dataframe\">\n",
       "  <thead>\n",
       "    <tr style=\"text-align: right;\">\n",
       "      <th></th>\n",
       "      <th>Date</th>\n",
       "      <th>Label_No</th>\n",
       "      <th>Label</th>\n",
       "      <th>Motor</th>\n",
       "      <th>WATT</th>\n",
       "      <th>AMP</th>\n",
       "      <th>AbsMax</th>\n",
       "      <th>AbsMean</th>\n",
       "      <th>P2P</th>\n",
       "      <th>RMS</th>\n",
       "      <th>...</th>\n",
       "      <th>Shape</th>\n",
       "      <th>Impulse</th>\n",
       "      <th>1x</th>\n",
       "      <th>2x</th>\n",
       "      <th>3x</th>\n",
       "      <th>4x</th>\n",
       "      <th>1xB</th>\n",
       "      <th>2xB</th>\n",
       "      <th>3xB</th>\n",
       "      <th>4xB</th>\n",
       "    </tr>\n",
       "  </thead>\n",
       "  <tbody>\n",
       "    <tr>\n",
       "      <th>0</th>\n",
       "      <td>2020-11-25 14:01:00</td>\n",
       "      <td>0.0</td>\n",
       "      <td>정상</td>\n",
       "      <td>L-CAHU-03R</td>\n",
       "      <td>11.0</td>\n",
       "      <td>22.0</td>\n",
       "      <td>0.054116</td>\n",
       "      <td>0.011482</td>\n",
       "      <td>0.092395</td>\n",
       "      <td>0.014053</td>\n",
       "      <td>...</td>\n",
       "      <td>1.223906</td>\n",
       "      <td>4.713012</td>\n",
       "      <td>0.021590</td>\n",
       "      <td>0.002832</td>\n",
       "      <td>0.000747</td>\n",
       "      <td>0.000476</td>\n",
       "      <td>0.000814</td>\n",
       "      <td>0.000405</td>\n",
       "      <td>0.000370</td>\n",
       "      <td>0.000278</td>\n",
       "    </tr>\n",
       "    <tr>\n",
       "      <th>1</th>\n",
       "      <td>2020-11-25 14:05:06</td>\n",
       "      <td>0.0</td>\n",
       "      <td>정상</td>\n",
       "      <td>L-CAHU-03R</td>\n",
       "      <td>11.0</td>\n",
       "      <td>22.0</td>\n",
       "      <td>0.051435</td>\n",
       "      <td>0.011649</td>\n",
       "      <td>0.088863</td>\n",
       "      <td>0.014295</td>\n",
       "      <td>...</td>\n",
       "      <td>1.227197</td>\n",
       "      <td>4.415492</td>\n",
       "      <td>0.021702</td>\n",
       "      <td>0.002757</td>\n",
       "      <td>0.000674</td>\n",
       "      <td>0.000674</td>\n",
       "      <td>0.000993</td>\n",
       "      <td>0.000407</td>\n",
       "      <td>0.000258</td>\n",
       "      <td>0.000224</td>\n",
       "    </tr>\n",
       "    <tr>\n",
       "      <th>2</th>\n",
       "      <td>2020-11-25 14:06:12</td>\n",
       "      <td>0.0</td>\n",
       "      <td>정상</td>\n",
       "      <td>L-CAHU-03R</td>\n",
       "      <td>11.0</td>\n",
       "      <td>22.0</td>\n",
       "      <td>0.046130</td>\n",
       "      <td>0.012619</td>\n",
       "      <td>0.085221</td>\n",
       "      <td>0.015276</td>\n",
       "      <td>...</td>\n",
       "      <td>1.210515</td>\n",
       "      <td>3.655473</td>\n",
       "      <td>0.021162</td>\n",
       "      <td>0.002808</td>\n",
       "      <td>0.000938</td>\n",
       "      <td>0.000420</td>\n",
       "      <td>0.000507</td>\n",
       "      <td>0.000395</td>\n",
       "      <td>0.000217</td>\n",
       "      <td>0.000176</td>\n",
       "    </tr>\n",
       "    <tr>\n",
       "      <th>3</th>\n",
       "      <td>2020-11-25 14:06:24</td>\n",
       "      <td>0.0</td>\n",
       "      <td>정상</td>\n",
       "      <td>L-CAHU-03R</td>\n",
       "      <td>11.0</td>\n",
       "      <td>22.0</td>\n",
       "      <td>0.053497</td>\n",
       "      <td>0.011505</td>\n",
       "      <td>0.093581</td>\n",
       "      <td>0.014059</td>\n",
       "      <td>...</td>\n",
       "      <td>1.221968</td>\n",
       "      <td>4.649777</td>\n",
       "      <td>0.021820</td>\n",
       "      <td>0.002246</td>\n",
       "      <td>0.000765</td>\n",
       "      <td>0.000583</td>\n",
       "      <td>0.000961</td>\n",
       "      <td>0.000614</td>\n",
       "      <td>0.000276</td>\n",
       "      <td>0.000347</td>\n",
       "    </tr>\n",
       "    <tr>\n",
       "      <th>4</th>\n",
       "      <td>2020-11-25 14:07:03</td>\n",
       "      <td>0.0</td>\n",
       "      <td>정상</td>\n",
       "      <td>L-PAHU-02S</td>\n",
       "      <td>37.0</td>\n",
       "      <td>71.1</td>\n",
       "      <td>0.073671</td>\n",
       "      <td>0.014504</td>\n",
       "      <td>0.123645</td>\n",
       "      <td>0.017763</td>\n",
       "      <td>...</td>\n",
       "      <td>1.224668</td>\n",
       "      <td>5.079276</td>\n",
       "      <td>0.000268</td>\n",
       "      <td>0.002277</td>\n",
       "      <td>0.000215</td>\n",
       "      <td>0.000851</td>\n",
       "      <td>0.000442</td>\n",
       "      <td>0.000774</td>\n",
       "      <td>0.000115</td>\n",
       "      <td>0.000496</td>\n",
       "    </tr>\n",
       "  </tbody>\n",
       "</table>\n",
       "<p>5 rows × 23 columns</p>\n",
       "</div>"
      ],
      "text/plain": [
       "                  Date  Label_No Label       Motor  WATT   AMP    AbsMax  \\\n",
       "0  2020-11-25 14:01:00       0.0    정상  L-CAHU-03R  11.0  22.0  0.054116   \n",
       "1  2020-11-25 14:05:06       0.0    정상  L-CAHU-03R  11.0  22.0  0.051435   \n",
       "2  2020-11-25 14:06:12       0.0    정상  L-CAHU-03R  11.0  22.0  0.046130   \n",
       "3  2020-11-25 14:06:24       0.0    정상  L-CAHU-03R  11.0  22.0  0.053497   \n",
       "4  2020-11-25 14:07:03       0.0    정상  L-PAHU-02S  37.0  71.1  0.073671   \n",
       "\n",
       "    AbsMean       P2P       RMS  ...     Shape   Impulse        1x        2x  \\\n",
       "0  0.011482  0.092395  0.014053  ...  1.223906  4.713012  0.021590  0.002832   \n",
       "1  0.011649  0.088863  0.014295  ...  1.227197  4.415492  0.021702  0.002757   \n",
       "2  0.012619  0.085221  0.015276  ...  1.210515  3.655473  0.021162  0.002808   \n",
       "3  0.011505  0.093581  0.014059  ...  1.221968  4.649777  0.021820  0.002246   \n",
       "4  0.014504  0.123645  0.017763  ...  1.224668  5.079276  0.000268  0.002277   \n",
       "\n",
       "         3x        4x       1xB       2xB       3xB       4xB  \n",
       "0  0.000747  0.000476  0.000814  0.000405  0.000370  0.000278  \n",
       "1  0.000674  0.000674  0.000993  0.000407  0.000258  0.000224  \n",
       "2  0.000938  0.000420  0.000507  0.000395  0.000217  0.000176  \n",
       "3  0.000765  0.000583  0.000961  0.000614  0.000276  0.000347  \n",
       "4  0.000215  0.000851  0.000442  0.000774  0.000115  0.000496  \n",
       "\n",
       "[5 rows x 23 columns]"
      ]
     },
     "execution_count": 3,
     "metadata": {},
     "output_type": "execute_result"
    }
   ],
   "source": [
    "df = pd.read_csv('../dataset/vibration_10k.csv')\n",
    "df.head()"
   ]
  },
  {
   "cell_type": "code",
   "execution_count": 4,
   "metadata": {
    "tags": []
   },
   "outputs": [
    {
     "data": {
      "text/plain": [
       "(10000, 23)"
      ]
     },
     "execution_count": 4,
     "metadata": {},
     "output_type": "execute_result"
    }
   ],
   "source": [
    "df.shape"
   ]
  },
  {
   "cell_type": "code",
   "execution_count": 5,
   "metadata": {
    "tags": []
   },
   "outputs": [
    {
     "name": "stdout",
     "output_type": "stream",
     "text": [
      "<class 'pandas.core.frame.DataFrame'>\n",
      "RangeIndex: 10000 entries, 0 to 9999\n",
      "Data columns (total 23 columns):\n",
      " #   Column    Non-Null Count  Dtype  \n",
      "---  ------    --------------  -----  \n",
      " 0   Date      10000 non-null  object \n",
      " 1   Label_No  10000 non-null  float64\n",
      " 2   Label     10000 non-null  object \n",
      " 3   Motor     10000 non-null  object \n",
      " 4   WATT      10000 non-null  float64\n",
      " 5   AMP       10000 non-null  float64\n",
      " 6   AbsMax    9988 non-null   float64\n",
      " 7   AbsMean   10000 non-null  float64\n",
      " 8   P2P       10000 non-null  float64\n",
      " 9   RMS       10000 non-null  float64\n",
      " 10  Skewness  10000 non-null  float64\n",
      " 11  Kurtosis  10000 non-null  float64\n",
      " 12  Crest     10000 non-null  float64\n",
      " 13  Shape     10000 non-null  float64\n",
      " 14  Impulse   10000 non-null  float64\n",
      " 15  1x        10000 non-null  float64\n",
      " 16  2x        10000 non-null  float64\n",
      " 17  3x        10000 non-null  float64\n",
      " 18  4x        10000 non-null  float64\n",
      " 19  1xB       10000 non-null  float64\n",
      " 20  2xB       10000 non-null  float64\n",
      " 21  3xB       10000 non-null  float64\n",
      " 22  4xB       10000 non-null  float64\n",
      "dtypes: float64(20), object(3)\n",
      "memory usage: 1.8+ MB\n"
     ]
    }
   ],
   "source": [
    "df.info()"
   ]
  },
  {
   "cell_type": "markdown",
   "metadata": {},
   "source": [
    "## 2. 데이터 탐색"
   ]
  },
  {
   "cell_type": "code",
   "execution_count": 6,
   "metadata": {
    "tags": []
   },
   "outputs": [
    {
     "data": {
      "text/plain": [
       "Label\n",
       "정상        4612\n",
       "벨트느슨함     1654\n",
       "축정렬불량     1337\n",
       "베어링불량     1243\n",
       "회전체불평형    1154\n",
       "Name: count, dtype: int64"
      ]
     },
     "execution_count": 6,
     "metadata": {},
     "output_type": "execute_result"
    }
   ],
   "source": [
    "df['Label'].value_counts()"
   ]
  },
  {
   "cell_type": "markdown",
   "metadata": {},
   "source": [
    "### 2.1 DateTime Index 지정"
   ]
  },
  {
   "cell_type": "code",
   "execution_count": 7,
   "metadata": {
    "tags": []
   },
   "outputs": [
    {
     "data": {
      "text/html": [
       "<div>\n",
       "<style scoped>\n",
       "    .dataframe tbody tr th:only-of-type {\n",
       "        vertical-align: middle;\n",
       "    }\n",
       "\n",
       "    .dataframe tbody tr th {\n",
       "        vertical-align: top;\n",
       "    }\n",
       "\n",
       "    .dataframe thead th {\n",
       "        text-align: right;\n",
       "    }\n",
       "</style>\n",
       "<table border=\"1\" class=\"dataframe\">\n",
       "  <thead>\n",
       "    <tr style=\"text-align: right;\">\n",
       "      <th></th>\n",
       "      <th>Label_No</th>\n",
       "      <th>Label</th>\n",
       "      <th>Motor</th>\n",
       "      <th>WATT</th>\n",
       "      <th>AMP</th>\n",
       "      <th>AbsMax</th>\n",
       "      <th>AbsMean</th>\n",
       "      <th>P2P</th>\n",
       "      <th>RMS</th>\n",
       "      <th>Skewness</th>\n",
       "      <th>...</th>\n",
       "      <th>Shape</th>\n",
       "      <th>Impulse</th>\n",
       "      <th>1x</th>\n",
       "      <th>2x</th>\n",
       "      <th>3x</th>\n",
       "      <th>4x</th>\n",
       "      <th>1xB</th>\n",
       "      <th>2xB</th>\n",
       "      <th>3xB</th>\n",
       "      <th>4xB</th>\n",
       "    </tr>\n",
       "    <tr>\n",
       "      <th>Date</th>\n",
       "      <th></th>\n",
       "      <th></th>\n",
       "      <th></th>\n",
       "      <th></th>\n",
       "      <th></th>\n",
       "      <th></th>\n",
       "      <th></th>\n",
       "      <th></th>\n",
       "      <th></th>\n",
       "      <th></th>\n",
       "      <th></th>\n",
       "      <th></th>\n",
       "      <th></th>\n",
       "      <th></th>\n",
       "      <th></th>\n",
       "      <th></th>\n",
       "      <th></th>\n",
       "      <th></th>\n",
       "      <th></th>\n",
       "      <th></th>\n",
       "      <th></th>\n",
       "    </tr>\n",
       "  </thead>\n",
       "  <tbody>\n",
       "    <tr>\n",
       "      <th>2020-11-25 14:01:00</th>\n",
       "      <td>0.0</td>\n",
       "      <td>정상</td>\n",
       "      <td>L-CAHU-03R</td>\n",
       "      <td>11.0</td>\n",
       "      <td>22.0</td>\n",
       "      <td>0.054116</td>\n",
       "      <td>0.011482</td>\n",
       "      <td>0.092395</td>\n",
       "      <td>0.014053</td>\n",
       "      <td>-0.142563</td>\n",
       "      <td>...</td>\n",
       "      <td>1.223906</td>\n",
       "      <td>4.713012</td>\n",
       "      <td>0.021590</td>\n",
       "      <td>0.002832</td>\n",
       "      <td>0.000747</td>\n",
       "      <td>0.000476</td>\n",
       "      <td>0.000814</td>\n",
       "      <td>0.000405</td>\n",
       "      <td>0.000370</td>\n",
       "      <td>0.000278</td>\n",
       "    </tr>\n",
       "    <tr>\n",
       "      <th>2020-11-25 14:05:06</th>\n",
       "      <td>0.0</td>\n",
       "      <td>정상</td>\n",
       "      <td>L-CAHU-03R</td>\n",
       "      <td>11.0</td>\n",
       "      <td>22.0</td>\n",
       "      <td>0.051435</td>\n",
       "      <td>0.011649</td>\n",
       "      <td>0.088863</td>\n",
       "      <td>0.014295</td>\n",
       "      <td>-0.129078</td>\n",
       "      <td>...</td>\n",
       "      <td>1.227197</td>\n",
       "      <td>4.415492</td>\n",
       "      <td>0.021702</td>\n",
       "      <td>0.002757</td>\n",
       "      <td>0.000674</td>\n",
       "      <td>0.000674</td>\n",
       "      <td>0.000993</td>\n",
       "      <td>0.000407</td>\n",
       "      <td>0.000258</td>\n",
       "      <td>0.000224</td>\n",
       "    </tr>\n",
       "    <tr>\n",
       "      <th>2020-11-25 14:06:12</th>\n",
       "      <td>0.0</td>\n",
       "      <td>정상</td>\n",
       "      <td>L-CAHU-03R</td>\n",
       "      <td>11.0</td>\n",
       "      <td>22.0</td>\n",
       "      <td>0.046130</td>\n",
       "      <td>0.012619</td>\n",
       "      <td>0.085221</td>\n",
       "      <td>0.015276</td>\n",
       "      <td>-0.144933</td>\n",
       "      <td>...</td>\n",
       "      <td>1.210515</td>\n",
       "      <td>3.655473</td>\n",
       "      <td>0.021162</td>\n",
       "      <td>0.002808</td>\n",
       "      <td>0.000938</td>\n",
       "      <td>0.000420</td>\n",
       "      <td>0.000507</td>\n",
       "      <td>0.000395</td>\n",
       "      <td>0.000217</td>\n",
       "      <td>0.000176</td>\n",
       "    </tr>\n",
       "    <tr>\n",
       "      <th>2020-11-25 14:06:24</th>\n",
       "      <td>0.0</td>\n",
       "      <td>정상</td>\n",
       "      <td>L-CAHU-03R</td>\n",
       "      <td>11.0</td>\n",
       "      <td>22.0</td>\n",
       "      <td>0.053497</td>\n",
       "      <td>0.011505</td>\n",
       "      <td>0.093581</td>\n",
       "      <td>0.014059</td>\n",
       "      <td>-0.124687</td>\n",
       "      <td>...</td>\n",
       "      <td>1.221968</td>\n",
       "      <td>4.649777</td>\n",
       "      <td>0.021820</td>\n",
       "      <td>0.002246</td>\n",
       "      <td>0.000765</td>\n",
       "      <td>0.000583</td>\n",
       "      <td>0.000961</td>\n",
       "      <td>0.000614</td>\n",
       "      <td>0.000276</td>\n",
       "      <td>0.000347</td>\n",
       "    </tr>\n",
       "    <tr>\n",
       "      <th>2020-11-25 14:07:03</th>\n",
       "      <td>0.0</td>\n",
       "      <td>정상</td>\n",
       "      <td>L-PAHU-02S</td>\n",
       "      <td>37.0</td>\n",
       "      <td>71.1</td>\n",
       "      <td>0.073671</td>\n",
       "      <td>0.014504</td>\n",
       "      <td>0.123645</td>\n",
       "      <td>0.017763</td>\n",
       "      <td>-0.180152</td>\n",
       "      <td>...</td>\n",
       "      <td>1.224668</td>\n",
       "      <td>5.079276</td>\n",
       "      <td>0.000268</td>\n",
       "      <td>0.002277</td>\n",
       "      <td>0.000215</td>\n",
       "      <td>0.000851</td>\n",
       "      <td>0.000442</td>\n",
       "      <td>0.000774</td>\n",
       "      <td>0.000115</td>\n",
       "      <td>0.000496</td>\n",
       "    </tr>\n",
       "  </tbody>\n",
       "</table>\n",
       "<p>5 rows × 22 columns</p>\n",
       "</div>"
      ],
      "text/plain": [
       "                     Label_No Label       Motor  WATT   AMP    AbsMax  \\\n",
       "Date                                                                    \n",
       "2020-11-25 14:01:00       0.0    정상  L-CAHU-03R  11.0  22.0  0.054116   \n",
       "2020-11-25 14:05:06       0.0    정상  L-CAHU-03R  11.0  22.0  0.051435   \n",
       "2020-11-25 14:06:12       0.0    정상  L-CAHU-03R  11.0  22.0  0.046130   \n",
       "2020-11-25 14:06:24       0.0    정상  L-CAHU-03R  11.0  22.0  0.053497   \n",
       "2020-11-25 14:07:03       0.0    정상  L-PAHU-02S  37.0  71.1  0.073671   \n",
       "\n",
       "                      AbsMean       P2P       RMS  Skewness  ...     Shape  \\\n",
       "Date                                                         ...             \n",
       "2020-11-25 14:01:00  0.011482  0.092395  0.014053 -0.142563  ...  1.223906   \n",
       "2020-11-25 14:05:06  0.011649  0.088863  0.014295 -0.129078  ...  1.227197   \n",
       "2020-11-25 14:06:12  0.012619  0.085221  0.015276 -0.144933  ...  1.210515   \n",
       "2020-11-25 14:06:24  0.011505  0.093581  0.014059 -0.124687  ...  1.221968   \n",
       "2020-11-25 14:07:03  0.014504  0.123645  0.017763 -0.180152  ...  1.224668   \n",
       "\n",
       "                      Impulse        1x        2x        3x        4x  \\\n",
       "Date                                                                    \n",
       "2020-11-25 14:01:00  4.713012  0.021590  0.002832  0.000747  0.000476   \n",
       "2020-11-25 14:05:06  4.415492  0.021702  0.002757  0.000674  0.000674   \n",
       "2020-11-25 14:06:12  3.655473  0.021162  0.002808  0.000938  0.000420   \n",
       "2020-11-25 14:06:24  4.649777  0.021820  0.002246  0.000765  0.000583   \n",
       "2020-11-25 14:07:03  5.079276  0.000268  0.002277  0.000215  0.000851   \n",
       "\n",
       "                          1xB       2xB       3xB       4xB  \n",
       "Date                                                         \n",
       "2020-11-25 14:01:00  0.000814  0.000405  0.000370  0.000278  \n",
       "2020-11-25 14:05:06  0.000993  0.000407  0.000258  0.000224  \n",
       "2020-11-25 14:06:12  0.000507  0.000395  0.000217  0.000176  \n",
       "2020-11-25 14:06:24  0.000961  0.000614  0.000276  0.000347  \n",
       "2020-11-25 14:07:03  0.000442  0.000774  0.000115  0.000496  \n",
       "\n",
       "[5 rows x 22 columns]"
      ]
     },
     "execution_count": 7,
     "metadata": {},
     "output_type": "execute_result"
    }
   ],
   "source": [
    "df['Date'] = pd.to_datetime(df['Date'], format='%Y-%m-%d %H:%M:%S')\n",
    "df = df.set_index('Date')\n",
    "df.head()"
   ]
  },
  {
   "cell_type": "markdown",
   "metadata": {},
   "source": [
    "### 2.2 결측치 확인 및 처리"
   ]
  },
  {
   "cell_type": "code",
   "execution_count": 8,
   "metadata": {
    "tags": []
   },
   "outputs": [
    {
     "data": {
      "text/plain": [
       "Label_No     0\n",
       "Label        0\n",
       "Motor        0\n",
       "WATT         0\n",
       "AMP          0\n",
       "AbsMax      12\n",
       "AbsMean      0\n",
       "P2P          0\n",
       "RMS          0\n",
       "Skewness     0\n",
       "Kurtosis     0\n",
       "Crest        0\n",
       "Shape        0\n",
       "Impulse      0\n",
       "1x           0\n",
       "2x           0\n",
       "3x           0\n",
       "4x           0\n",
       "1xB          0\n",
       "2xB          0\n",
       "3xB          0\n",
       "4xB          0\n",
       "dtype: int64"
      ]
     },
     "execution_count": 8,
     "metadata": {},
     "output_type": "execute_result"
    }
   ],
   "source": [
    "df.isnull().sum()"
   ]
  },
  {
   "cell_type": "code",
   "execution_count": 9,
   "metadata": {
    "tags": []
   },
   "outputs": [
    {
     "data": {
      "text/plain": [
       "Label_No    0\n",
       "Label       0\n",
       "Motor       0\n",
       "WATT        0\n",
       "AMP         0\n",
       "AbsMax      0\n",
       "AbsMean     0\n",
       "P2P         0\n",
       "RMS         0\n",
       "Skewness    0\n",
       "Kurtosis    0\n",
       "Crest       0\n",
       "Shape       0\n",
       "Impulse     0\n",
       "1x          0\n",
       "2x          0\n",
       "3x          0\n",
       "4x          0\n",
       "1xB         0\n",
       "2xB         0\n",
       "3xB         0\n",
       "4xB         0\n",
       "dtype: int64"
      ]
     },
     "execution_count": 9,
     "metadata": {},
     "output_type": "execute_result"
    }
   ],
   "source": [
    "df['AbsMax'].fillna(df['AbsMax'].mean(), inplace=True)\n",
    "df.isnull().sum()"
   ]
  },
  {
   "cell_type": "markdown",
   "metadata": {},
   "source": [
    "## 3. Feature Engineering"
   ]
  },
  {
   "cell_type": "code",
   "execution_count": 10,
   "metadata": {
    "tags": []
   },
   "outputs": [
    {
     "data": {
      "text/html": [
       "<div>\n",
       "<style scoped>\n",
       "    .dataframe tbody tr th:only-of-type {\n",
       "        vertical-align: middle;\n",
       "    }\n",
       "\n",
       "    .dataframe tbody tr th {\n",
       "        vertical-align: top;\n",
       "    }\n",
       "\n",
       "    .dataframe thead th {\n",
       "        text-align: right;\n",
       "    }\n",
       "</style>\n",
       "<table border=\"1\" class=\"dataframe\">\n",
       "  <thead>\n",
       "    <tr style=\"text-align: right;\">\n",
       "      <th></th>\n",
       "      <th>Label_No</th>\n",
       "      <th>AbsMax</th>\n",
       "      <th>AbsMean</th>\n",
       "      <th>P2P</th>\n",
       "      <th>RMS</th>\n",
       "      <th>Skewness</th>\n",
       "      <th>Kurtosis</th>\n",
       "      <th>Crest</th>\n",
       "      <th>Shape</th>\n",
       "      <th>Impulse</th>\n",
       "      <th>1x</th>\n",
       "      <th>2x</th>\n",
       "      <th>3x</th>\n",
       "      <th>4x</th>\n",
       "      <th>1xB</th>\n",
       "      <th>2xB</th>\n",
       "      <th>3xB</th>\n",
       "      <th>4xB</th>\n",
       "    </tr>\n",
       "    <tr>\n",
       "      <th>Date</th>\n",
       "      <th></th>\n",
       "      <th></th>\n",
       "      <th></th>\n",
       "      <th></th>\n",
       "      <th></th>\n",
       "      <th></th>\n",
       "      <th></th>\n",
       "      <th></th>\n",
       "      <th></th>\n",
       "      <th></th>\n",
       "      <th></th>\n",
       "      <th></th>\n",
       "      <th></th>\n",
       "      <th></th>\n",
       "      <th></th>\n",
       "      <th></th>\n",
       "      <th></th>\n",
       "      <th></th>\n",
       "    </tr>\n",
       "  </thead>\n",
       "  <tbody>\n",
       "    <tr>\n",
       "      <th>2020-11-25 14:01:00</th>\n",
       "      <td>0.0</td>\n",
       "      <td>0.054116</td>\n",
       "      <td>0.011482</td>\n",
       "      <td>0.092395</td>\n",
       "      <td>0.014053</td>\n",
       "      <td>-0.142563</td>\n",
       "      <td>2.606448</td>\n",
       "      <td>6.574603</td>\n",
       "      <td>1.223906</td>\n",
       "      <td>4.713012</td>\n",
       "      <td>0.021590</td>\n",
       "      <td>0.002832</td>\n",
       "      <td>0.000747</td>\n",
       "      <td>0.000476</td>\n",
       "      <td>0.000814</td>\n",
       "      <td>0.000405</td>\n",
       "      <td>0.000370</td>\n",
       "      <td>0.000278</td>\n",
       "    </tr>\n",
       "    <tr>\n",
       "      <th>2020-11-25 14:05:06</th>\n",
       "      <td>0.0</td>\n",
       "      <td>0.051435</td>\n",
       "      <td>0.011649</td>\n",
       "      <td>0.088863</td>\n",
       "      <td>0.014295</td>\n",
       "      <td>-0.129078</td>\n",
       "      <td>2.538691</td>\n",
       "      <td>6.216188</td>\n",
       "      <td>1.227197</td>\n",
       "      <td>4.415492</td>\n",
       "      <td>0.021702</td>\n",
       "      <td>0.002757</td>\n",
       "      <td>0.000674</td>\n",
       "      <td>0.000674</td>\n",
       "      <td>0.000993</td>\n",
       "      <td>0.000407</td>\n",
       "      <td>0.000258</td>\n",
       "      <td>0.000224</td>\n",
       "    </tr>\n",
       "    <tr>\n",
       "      <th>2020-11-25 14:06:12</th>\n",
       "      <td>0.0</td>\n",
       "      <td>0.046130</td>\n",
       "      <td>0.012619</td>\n",
       "      <td>0.085221</td>\n",
       "      <td>0.015276</td>\n",
       "      <td>-0.144933</td>\n",
       "      <td>2.386880</td>\n",
       "      <td>5.578775</td>\n",
       "      <td>1.210515</td>\n",
       "      <td>3.655473</td>\n",
       "      <td>0.021162</td>\n",
       "      <td>0.002808</td>\n",
       "      <td>0.000938</td>\n",
       "      <td>0.000420</td>\n",
       "      <td>0.000507</td>\n",
       "      <td>0.000395</td>\n",
       "      <td>0.000217</td>\n",
       "      <td>0.000176</td>\n",
       "    </tr>\n",
       "    <tr>\n",
       "      <th>2020-11-25 14:06:24</th>\n",
       "      <td>0.0</td>\n",
       "      <td>0.053497</td>\n",
       "      <td>0.011505</td>\n",
       "      <td>0.093581</td>\n",
       "      <td>0.014059</td>\n",
       "      <td>-0.124687</td>\n",
       "      <td>2.511421</td>\n",
       "      <td>6.656225</td>\n",
       "      <td>1.221968</td>\n",
       "      <td>4.649777</td>\n",
       "      <td>0.021820</td>\n",
       "      <td>0.002246</td>\n",
       "      <td>0.000765</td>\n",
       "      <td>0.000583</td>\n",
       "      <td>0.000961</td>\n",
       "      <td>0.000614</td>\n",
       "      <td>0.000276</td>\n",
       "      <td>0.000347</td>\n",
       "    </tr>\n",
       "    <tr>\n",
       "      <th>2020-11-25 14:07:03</th>\n",
       "      <td>0.0</td>\n",
       "      <td>0.073671</td>\n",
       "      <td>0.014504</td>\n",
       "      <td>0.123645</td>\n",
       "      <td>0.017763</td>\n",
       "      <td>-0.180152</td>\n",
       "      <td>2.612526</td>\n",
       "      <td>6.960855</td>\n",
       "      <td>1.224668</td>\n",
       "      <td>5.079276</td>\n",
       "      <td>0.000268</td>\n",
       "      <td>0.002277</td>\n",
       "      <td>0.000215</td>\n",
       "      <td>0.000851</td>\n",
       "      <td>0.000442</td>\n",
       "      <td>0.000774</td>\n",
       "      <td>0.000115</td>\n",
       "      <td>0.000496</td>\n",
       "    </tr>\n",
       "  </tbody>\n",
       "</table>\n",
       "</div>"
      ],
      "text/plain": [
       "                     Label_No    AbsMax   AbsMean       P2P       RMS  \\\n",
       "Date                                                                    \n",
       "2020-11-25 14:01:00       0.0  0.054116  0.011482  0.092395  0.014053   \n",
       "2020-11-25 14:05:06       0.0  0.051435  0.011649  0.088863  0.014295   \n",
       "2020-11-25 14:06:12       0.0  0.046130  0.012619  0.085221  0.015276   \n",
       "2020-11-25 14:06:24       0.0  0.053497  0.011505  0.093581  0.014059   \n",
       "2020-11-25 14:07:03       0.0  0.073671  0.014504  0.123645  0.017763   \n",
       "\n",
       "                     Skewness  Kurtosis     Crest     Shape   Impulse  \\\n",
       "Date                                                                    \n",
       "2020-11-25 14:01:00 -0.142563  2.606448  6.574603  1.223906  4.713012   \n",
       "2020-11-25 14:05:06 -0.129078  2.538691  6.216188  1.227197  4.415492   \n",
       "2020-11-25 14:06:12 -0.144933  2.386880  5.578775  1.210515  3.655473   \n",
       "2020-11-25 14:06:24 -0.124687  2.511421  6.656225  1.221968  4.649777   \n",
       "2020-11-25 14:07:03 -0.180152  2.612526  6.960855  1.224668  5.079276   \n",
       "\n",
       "                           1x        2x        3x        4x       1xB  \\\n",
       "Date                                                                    \n",
       "2020-11-25 14:01:00  0.021590  0.002832  0.000747  0.000476  0.000814   \n",
       "2020-11-25 14:05:06  0.021702  0.002757  0.000674  0.000674  0.000993   \n",
       "2020-11-25 14:06:12  0.021162  0.002808  0.000938  0.000420  0.000507   \n",
       "2020-11-25 14:06:24  0.021820  0.002246  0.000765  0.000583  0.000961   \n",
       "2020-11-25 14:07:03  0.000268  0.002277  0.000215  0.000851  0.000442   \n",
       "\n",
       "                          2xB       3xB       4xB  \n",
       "Date                                               \n",
       "2020-11-25 14:01:00  0.000405  0.000370  0.000278  \n",
       "2020-11-25 14:05:06  0.000407  0.000258  0.000224  \n",
       "2020-11-25 14:06:12  0.000395  0.000217  0.000176  \n",
       "2020-11-25 14:06:24  0.000614  0.000276  0.000347  \n",
       "2020-11-25 14:07:03  0.000774  0.000115  0.000496  "
      ]
     },
     "execution_count": 10,
     "metadata": {},
     "output_type": "execute_result"
    }
   ],
   "source": [
    "df.drop(['Label', 'Motor', 'WATT', 'AMP'], axis=1, inplace=True)\n",
    "df.head()"
   ]
  },
  {
   "cell_type": "markdown",
   "metadata": {},
   "source": [
    "### 3.1 Normal/Anomaly 추출"
   ]
  },
  {
   "cell_type": "code",
   "execution_count": 11,
   "metadata": {
    "tags": []
   },
   "outputs": [
    {
     "data": {
      "text/plain": [
       "Label_No\n",
       "0.0    4612\n",
       "4.0    1654\n",
       "3.0    1337\n",
       "1.0    1243\n",
       "2.0    1154\n",
       "Name: count, dtype: int64"
      ]
     },
     "execution_count": 11,
     "metadata": {},
     "output_type": "execute_result"
    }
   ],
   "source": [
    "df['Label_No'].value_counts()"
   ]
  },
  {
   "cell_type": "code",
   "execution_count": 12,
   "metadata": {
    "tags": []
   },
   "outputs": [
    {
     "data": {
      "text/plain": [
       "(4612, 17)"
      ]
     },
     "execution_count": 12,
     "metadata": {},
     "output_type": "execute_result"
    }
   ],
   "source": [
    "normal_df = df[df['Label_No'] == 0].drop(labels='Label_No', axis=1)\n",
    "normal_df.shape"
   ]
  },
  {
   "cell_type": "code",
   "execution_count": 13,
   "metadata": {
    "tags": []
   },
   "outputs": [
    {
     "data": {
      "text/plain": [
       "(5388, 17)"
      ]
     },
     "execution_count": 13,
     "metadata": {},
     "output_type": "execute_result"
    }
   ],
   "source": [
    "anomaly_df = df[df['Label_No'] != 0].drop(labels='Label_No', axis=1)\n",
    "anomaly_df.shape"
   ]
  },
  {
   "cell_type": "markdown",
   "metadata": {},
   "source": [
    "### 3.2 Train/Test Split "
   ]
  },
  {
   "cell_type": "code",
   "execution_count": 14,
   "metadata": {
    "tags": []
   },
   "outputs": [],
   "source": [
    "train_df, val_df = train_test_split(normal_df, test_size=0.15, random_state=100)\n",
    "val_df, test_df = train_test_split(val_df, test_size=0.33, random_state=100)"
   ]
  },
  {
   "cell_type": "markdown",
   "metadata": {},
   "source": [
    "### 3.3 Time Series 데이터셋 생성"
   ]
  },
  {
   "cell_type": "code",
   "execution_count": 15,
   "metadata": {
    "tags": []
   },
   "outputs": [],
   "source": [
    "def create_dataset(df):\n",
    "    sequences = df.astype(np.float32).to_numpy().tolist()\n",
    "    dataset = [torch.tensor(s).unsqueeze(1).float() for s in sequences]\n",
    "    \n",
    "    n_seq, seq_len, n_features = torch.stack(dataset).shape\n",
    "    return dataset, seq_len, n_features"
   ]
  },
  {
   "cell_type": "code",
   "execution_count": 16,
   "metadata": {
    "tags": []
   },
   "outputs": [],
   "source": [
    "train_dataset, seq_len, n_features = create_dataset(train_df)\n",
    "val_dataset, _, _ = create_dataset(val_df)\n",
    "\n",
    "test_normal_dataset, _, _ = create_dataset(test_df)\n",
    "test_anomaly_dataset, _, _ = create_dataset(anomaly_df)"
   ]
  },
  {
   "cell_type": "code",
   "execution_count": 17,
   "metadata": {
    "tags": []
   },
   "outputs": [
    {
     "data": {
      "text/plain": [
       "[tensor([[1.9175e-02],\n",
       "         [4.8954e-03],\n",
       "         [3.7621e-02],\n",
       "         [6.0642e-03],\n",
       "         [3.4683e-02],\n",
       "         [2.6413e+00],\n",
       "         [6.2037e+00],\n",
       "         [1.2388e+00],\n",
       "         [3.9169e+00],\n",
       "         [8.7932e-04],\n",
       "         [4.1948e-04],\n",
       "         [1.3186e-04],\n",
       "         [1.2388e-03],\n",
       "         [7.8233e-05],\n",
       "         [1.2019e-03],\n",
       "         [9.7549e-05],\n",
       "         [1.7419e-04]]),\n",
       " tensor([[3.1657e-02],\n",
       "         [8.5795e-03],\n",
       "         [6.3284e-02],\n",
       "         [1.0297e-02],\n",
       "         [4.1222e-02],\n",
       "         [2.3588e+00],\n",
       "         [6.1459e+00],\n",
       "         [1.2002e+00],\n",
       "         [3.6899e+00],\n",
       "         [2.3027e-03],\n",
       "         [3.1330e-03],\n",
       "         [1.6115e-04],\n",
       "         [7.5946e-04],\n",
       "         [3.4600e-03],\n",
       "         [4.6289e-04],\n",
       "         [6.7497e-05],\n",
       "         [7.1766e-05]])]"
      ]
     },
     "execution_count": 17,
     "metadata": {},
     "output_type": "execute_result"
    }
   ],
   "source": [
    "train_dataset[:2]"
   ]
  },
  {
   "cell_type": "markdown",
   "metadata": {},
   "source": [
    "## 4. LSTM Autoencoder Model"
   ]
  },
  {
   "cell_type": "markdown",
   "metadata": {},
   "source": [
    "### 4.1 Encoder Block"
   ]
  },
  {
   "cell_type": "code",
   "execution_count": 18,
   "metadata": {
    "tags": []
   },
   "outputs": [],
   "source": [
    "class Encoder(nn.Module):\n",
    "    def __init__(self, seq_len, n_features, embedding_dim=64):\n",
    "        super(Encoder, self).__init__()\n",
    "\n",
    "        self.seq_len, self.n_features = seq_len, n_features\n",
    "        self.embedding_dim, self.hidden_dim = embedding_dim, 8 * embedding_dim\n",
    "\n",
    "        self.rnn1 = nn.LSTM(\n",
    "          input_size=n_features,\n",
    "          hidden_size=self.hidden_dim,\n",
    "          num_layers=1,\n",
    "          batch_first=True)\n",
    "\n",
    "        self.rnn2 = nn.LSTM(\n",
    "          input_size=self.hidden_dim,\n",
    "          hidden_size=embedding_dim,\n",
    "          num_layers=1,\n",
    "          batch_first=True)\n",
    "\n",
    "    def forward(self, x):\n",
    "        x = x.reshape((1, self.seq_len, self.n_features))\n",
    "\n",
    "        x, (_, _) = self.rnn1(x)\n",
    "        x, (hidden_n, _) = self.rnn2(x)\n",
    "\n",
    "        return hidden_n.reshape((self.n_features, self.embedding_dim))"
   ]
  },
  {
   "cell_type": "markdown",
   "metadata": {},
   "source": [
    "### 4.2 Decoder Block"
   ]
  },
  {
   "cell_type": "code",
   "execution_count": 19,
   "metadata": {
    "tags": []
   },
   "outputs": [],
   "source": [
    "class Decoder(nn.Module):\n",
    "    def __init__(self, seq_len, input_dim=32, n_features=1):\n",
    "        super(Decoder, self).__init__()\n",
    "\n",
    "        self.seq_len, self.input_dim = seq_len, input_dim\n",
    "        self.hidden_dim, self.n_features = 8 * input_dim, n_features\n",
    "\n",
    "        self.rnn1 = nn.LSTM(\n",
    "          input_size=input_dim,\n",
    "          hidden_size=input_dim,\n",
    "          num_layers=1,\n",
    "          batch_first=True)\n",
    "\n",
    "        self.rnn2 = nn.LSTM(\n",
    "          input_size=input_dim,\n",
    "          hidden_size=self.hidden_dim,\n",
    "          num_layers=1,\n",
    "          batch_first=True)\n",
    "\n",
    "        self.output_layer = nn.Linear(self.hidden_dim, n_features)\n",
    "\n",
    "    def forward(self, x):\n",
    "        x = x.repeat(self.seq_len, self.n_features)\n",
    "        x = x.reshape((self.n_features, self.seq_len, self.input_dim))\n",
    "\n",
    "        x, (hidden_n, cell_n) = self.rnn1(x)\n",
    "        x, (hidden_n, cell_n) = self.rnn2(x)\n",
    "        x = x.reshape((self.seq_len, self.hidden_dim))\n",
    "\n",
    "        return self.output_layer(x)"
   ]
  },
  {
   "cell_type": "markdown",
   "metadata": {},
   "source": [
    "### 4.3 Encoder-Decoder"
   ]
  },
  {
   "cell_type": "code",
   "execution_count": 20,
   "metadata": {
    "tags": []
   },
   "outputs": [],
   "source": [
    "class LSTM_AE(nn.Module):\n",
    "    def __init__(self, seq_len, n_features, embedding_dim=64):\n",
    "        super(LSTM_AE, self).__init__()\n",
    "\n",
    "        self.encoder = Encoder(seq_len, n_features, embedding_dim).to(device)\n",
    "        self.decoder = Decoder(seq_len, embedding_dim, n_features).to(device)\n",
    "\n",
    "    def forward(self, x):\n",
    "        x = self.encoder(x)\n",
    "        x = self.decoder(x)\n",
    "\n",
    "        return x"
   ]
  },
  {
   "cell_type": "code",
   "execution_count": 21,
   "metadata": {
    "tags": []
   },
   "outputs": [
    {
     "name": "stdout",
     "output_type": "stream",
     "text": [
      "LSTM_AE(\n",
      "  (encoder): Encoder(\n",
      "    (rnn1): LSTM(1, 64, batch_first=True)\n",
      "    (rnn2): LSTM(64, 8, batch_first=True)\n",
      "  )\n",
      "  (decoder): Decoder(\n",
      "    (rnn1): LSTM(8, 8, batch_first=True)\n",
      "    (rnn2): LSTM(8, 64, batch_first=True)\n",
      "    (output_layer): Linear(in_features=64, out_features=1, bias=True)\n",
      "  )\n",
      ")\n"
     ]
    }
   ],
   "source": [
    "model = LSTM_AE(seq_len, n_features, 8)\n",
    "model = model.to(device)\n",
    "print(model)"
   ]
  },
  {
   "cell_type": "markdown",
   "metadata": {},
   "source": [
    "## 5. Training"
   ]
  },
  {
   "cell_type": "code",
   "execution_count": 22,
   "metadata": {
    "tags": []
   },
   "outputs": [],
   "source": [
    "def train_model(model, train_dataset, val_dataset, n_epochs):\n",
    "    \n",
    "    optimizer = torch.optim.Adam(model.parameters(), lr=1e-3)\n",
    "    criterion = nn.L1Loss(reduction='sum').to(device)\n",
    "    history = dict(train=[], val=[])\n",
    "\n",
    "    best_model_wts = copy.deepcopy(model.state_dict())\n",
    "    best_loss = 10000.0\n",
    "\n",
    "    for epoch in tqdm(range(1, n_epochs + 1)):\n",
    "        model = model.train()\n",
    "\n",
    "        train_losses = []\n",
    "        for seq_true in train_dataset:\n",
    "            optimizer.zero_grad()\n",
    "\n",
    "            seq_true = seq_true.to(device)\n",
    "            seq_pred = model(seq_true)\n",
    "\n",
    "            loss = criterion(seq_pred, seq_true)\n",
    "\n",
    "            loss.backward()\n",
    "            optimizer.step()\n",
    "\n",
    "            train_losses.append(loss.item())\n",
    "\n",
    "        val_losses = []\n",
    "        model = model.eval()\n",
    "        with torch.no_grad():\n",
    "            for seq_true in val_dataset:\n",
    "                seq_true = seq_true.to(device)\n",
    "                seq_pred = model(seq_true)\n",
    "\n",
    "                loss = criterion(seq_pred, seq_true)\n",
    "                val_losses.append(loss.item())\n",
    "\n",
    "        train_loss = np.mean(train_losses)\n",
    "        val_loss = np.mean(val_losses)\n",
    "\n",
    "        history['train'].append(train_loss)\n",
    "        history['val'].append(val_loss)\n",
    "\n",
    "        if val_loss < best_loss:\n",
    "            best_loss = val_loss\n",
    "            best_model_wts = copy.deepcopy(model.state_dict())\n",
    "\n",
    "        print(f'Epoch {epoch}: train loss {train_loss} val loss {val_loss}')\n",
    "\n",
    "    model.load_state_dict(best_model_wts)\n",
    "    return model.eval(), history"
   ]
  },
  {
   "cell_type": "code",
   "execution_count": 23,
   "metadata": {
    "tags": []
   },
   "outputs": [
    {
     "data": {
      "application/vnd.jupyter.widget-view+json": {
       "model_id": "b53c57bf65cb491481f4d654a763573b",
       "version_major": 2,
       "version_minor": 0
      },
      "text/plain": [
       "  0%|          | 0/20 [00:00<?, ?it/s]"
      ]
     },
     "metadata": {},
     "output_type": "display_data"
    },
    {
     "name": "stdout",
     "output_type": "stream",
     "text": [
      "Epoch 1: train loss 3.3220736995491444 val loss 1.9883832165540938\n",
      "Epoch 2: train loss 1.7248933366309775 val loss 1.6882121880935026\n",
      "Epoch 3: train loss 1.6929492424375245 val loss 1.6345173199992973\n",
      "Epoch 4: train loss 1.67285006279696 val loss 1.593961853091454\n",
      "Epoch 5: train loss 1.6622595810103324 val loss 1.6083631832192835\n",
      "Epoch 6: train loss 1.6583856216213686 val loss 1.632890816061852\n",
      "Epoch 7: train loss 1.653932533645052 val loss 1.6365618598255174\n",
      "Epoch 8: train loss 1.6533569900185934 val loss 1.6201056560610076\n",
      "Epoch 9: train loss 1.650104760614281 val loss 1.608678298461257\n",
      "Epoch 10: train loss 1.6507071194486047 val loss 1.606589771726734\n",
      "Epoch 11: train loss 1.6475888028398764 val loss 1.6040960223963143\n",
      "Epoch 12: train loss 1.6473198301881096 val loss 1.5939513762555937\n",
      "Epoch 13: train loss 1.6474790450983814 val loss 1.5971009991982585\n",
      "Epoch 14: train loss 1.6456018555187144 val loss 1.6142447372942712\n",
      "Epoch 15: train loss 1.6470202717302862 val loss 1.6096318806028778\n",
      "Epoch 16: train loss 1.6451545954910012 val loss 1.5959299739699642\n",
      "Epoch 17: train loss 1.6449681194784234 val loss 1.5908423630967254\n",
      "Epoch 18: train loss 1.6443868613991963 val loss 1.5882081021082066\n",
      "Epoch 19: train loss 1.6435106345756474 val loss 1.6044187011201232\n",
      "Epoch 20: train loss 1.642775409680088 val loss 1.6020235609480422\n"
     ]
    }
   ],
   "source": [
    "model, history = train_model(\n",
    "  model, \n",
    "  train_dataset, \n",
    "  val_dataset, \n",
    "  n_epochs=20)"
   ]
  },
  {
   "cell_type": "code",
   "execution_count": 24,
   "metadata": {
    "tags": []
   },
   "outputs": [
    {
     "data": {
      "image/png": "[encoded data removed]",
      "text/plain": [
       "<Figure size 640x480 with 1 Axes>"
      ]
     },
     "metadata": {},
     "output_type": "display_data"
    }
   ],
   "source": [
    "ax = plt.figure().gca()\n",
    "\n",
    "ax.plot(history['train'])\n",
    "ax.plot(history['val'])\n",
    "\n",
    "plt.ylabel('Loss')\n",
    "plt.xlabel('Epoch')\n",
    "plt.legend(['train', 'val'])\n",
    "plt.title('Loss over training epochs')\n",
    "plt.show();"
   ]
  },
  {
   "cell_type": "markdown",
   "metadata": {},
   "source": [
    "## 6. Model Save & Load"
   ]
  },
  {
   "cell_type": "code",
   "execution_count": 26,
   "metadata": {
    "tags": []
   },
   "outputs": [],
   "source": [
    "MODEL_PATH = 'lstm_ae_model.pth'\n",
    "\n",
    "torch.save(model, MODEL_PATH)"
   ]
  },
  {
   "cell_type": "code",
   "execution_count": 27,
   "metadata": {
    "tags": []
   },
   "outputs": [],
   "source": [
    "model = torch.load(MODEL_PATH)\n",
    "model = model.to(device)"
   ]
  },
  {
   "cell_type": "markdown",
   "metadata": {},
   "source": [
    "## 7. Thresholod 탐색\n",
    "- `L1Loss`: MAE Loss"
   ]
  },
  {
   "cell_type": "code",
   "execution_count": 28,
   "metadata": {
    "tags": []
   },
   "outputs": [],
   "source": [
    "def predict(model, dataset):\n",
    "    predictions, losses = [], []\n",
    "    criterion = nn.L1Loss(reduction='sum').to(device)\n",
    "    \n",
    "    with torch.no_grad():\n",
    "        model = model.eval()\n",
    "        for seq_true in dataset:\n",
    "            seq_true = seq_true.to(device) # Original Input Data\n",
    "            seq_pred = model(seq_true) # Reconstruction Data\n",
    "            loss = criterion(seq_pred, seq_true) # Anomaly Score\n",
    "\n",
    "            predictions.append(seq_pred.cpu().numpy().flatten())\n",
    "            losses.append(loss.item())\n",
    "    \n",
    "    return predictions, losses"
   ]
  },
  {
   "cell_type": "code",
   "execution_count": null,
   "metadata": {
    "tags": []
   },
   "outputs": [],
   "source": [
    "import plotly.express as px\n",
    "\n",
    "_, losses = predict(model, train_dataset)\n",
    "fig = px.histogram(losses)\n",
    "fig.show()"
   ]
  },
  {
   "cell_type": "code",
   "execution_count": 30,
   "metadata": {
    "tags": []
   },
   "outputs": [
    {
     "data": {
      "text/plain": [
       "5.0"
      ]
     },
     "execution_count": 30,
     "metadata": {},
     "output_type": "execute_result"
    }
   ],
   "source": [
    "#THRESHOLD = max(losses) # 정상데이터의 max로 지정\n",
    "THRESHOLD = 5.00 # 분석가가 직접 지정\n",
    "THRESHOLD"
   ]
  },
  {
   "cell_type": "markdown",
   "metadata": {},
   "source": [
    "## 8. Evaluation"
   ]
  },
  {
   "cell_type": "markdown",
   "metadata": {},
   "source": [
    "### 8.1 Normal 이상치 탐지 적용"
   ]
  },
  {
   "cell_type": "code",
   "execution_count": null,
   "metadata": {
    "tags": []
   },
   "outputs": [],
   "source": [
    "predictions, pred_losses_normal = predict(model, test_normal_dataset)\n",
    "\n",
    "fig = px.histogram(pred_losses_normal)\n",
    "fig.show()"
   ]
  },
  {
   "cell_type": "code",
   "execution_count": 32,
   "metadata": {
    "tags": []
   },
   "outputs": [
    {
     "name": "stdout",
     "output_type": "stream",
     "text": [
      "Normal Predictions: 219/229\n"
     ]
    }
   ],
   "source": [
    "correct_normal = sum(l <= THRESHOLD for l in pred_losses_normal)\n",
    "print(f'Normal Predictions: {correct_normal}/{len(test_normal_dataset)}')"
   ]
  },
  {
   "cell_type": "markdown",
   "metadata": {},
   "source": [
    "### 8.2 Anomaly 이상치 탐지 적용"
   ]
  },
  {
   "cell_type": "code",
   "execution_count": 35,
   "metadata": {
    "tags": []
   },
   "outputs": [],
   "source": [
    "anomaly_dataset = test_anomaly_dataset[:len(test_anomaly_dataset)]"
   ]
  },
  {
   "cell_type": "code",
   "execution_count": null,
   "metadata": {
    "tags": []
   },
   "outputs": [],
   "source": [
    "predictions, pred_losses_anomaly = predict(model, anomaly_dataset)\n",
    "fig = px.histogram(pred_losses_anomaly)\n",
    "fig.show()"
   ]
  },
  {
   "cell_type": "code",
   "execution_count": 37,
   "metadata": {
    "tags": []
   },
   "outputs": [
    {
     "name": "stdout",
     "output_type": "stream",
     "text": [
      "Anomaly Predictions: 1631/5388\n"
     ]
    }
   ],
   "source": [
    "correct_anomaly = sum(l > THRESHOLD for l in pred_losses_anomaly)\n",
    "print(f'Anomaly Predictions: {correct_anomaly}/{len(anomaly_dataset)}')"
   ]
  },
  {
   "cell_type": "markdown",
   "metadata": {},
   "source": [
    "## 9. 결과 탐색 시각화"
   ]
  },
  {
   "cell_type": "code",
   "execution_count": 40,
   "metadata": {
    "tags": []
   },
   "outputs": [],
   "source": [
    "def plot_prediction(data, model, title, ax):\n",
    "    predictions, pred_losses = predict(model, [data])\n",
    "\n",
    "    ax.plot(data, label='true')\n",
    "    ax.plot(predictions[0], label='reconstructed')\n",
    "    ax.set_title(f'{title} (loss: {np.around(pred_losses[0], 2)})')\n",
    "    ax.legend()"
   ]
  },
  {
   "cell_type": "code",
   "execution_count": null,
   "metadata": {
    "tags": []
   },
   "outputs": [],
   "source": [
    "fig, axs = plt.subplots(\n",
    "  nrows=2,\n",
    "  ncols=6,\n",
    "  sharey=True,\n",
    "  sharex=True,\n",
    "  figsize=(22, 8))\n",
    "\n",
    "for i, data in enumerate(test_normal_dataset[:6]):\n",
    "    plot_prediction(data, model, title='Normal', ax=axs[0, i])\n",
    "\n",
    "for i, data in enumerate(test_anomaly_dataset[0:6]):\n",
    "    plot_prediction(data, model, title='Anomaly', ax=axs[1, i])\n",
    "\n",
    "fig.tight_layout();"
   ]
  }
 ],
 "metadata": {
  "kernelspec": {
   "display_name": "lecture",
   "language": "python",
   "name": "lecture"
  },
  "language_info": {
   "codemirror_mode": {
    "name": "ipython",
    "version": 3
   },
   "file_extension": ".py",
   "mimetype": "text/x-python",
   "name": "python",
   "nbconvert_exporter": "python",
   "pygments_lexer": "ipython3",
   "version": "3.11.7"
  }
 },
 "nbformat": 4,
 "nbformat_minor": 4
}
